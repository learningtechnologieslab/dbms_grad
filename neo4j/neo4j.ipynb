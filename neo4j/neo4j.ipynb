{
 "cells": [
  {
   "cell_type": "code",
   "execution_count": 1,
   "id": "dfe53f89",
   "metadata": {},
   "outputs": [
    {
     "name": "stdout",
     "output_type": "stream",
     "text": [
      "Collecting neo4j\n",
      "  Downloading neo4j-5.7.0.tar.gz (176 kB)\n",
      "\u001b[2K     \u001b[90m━━━━━━━━━━━━━━━━━━━━━━━━━━━━━━━━━━━━━━━\u001b[0m \u001b[32m176.3/176.3 kB\u001b[0m \u001b[31m3.7 MB/s\u001b[0m eta \u001b[36m0:00:00\u001b[0m00:01\u001b[0m\n",
      "\u001b[?25h  Installing build dependencies ... \u001b[?25ldone\n",
      "\u001b[?25h  Getting requirements to build wheel ... \u001b[?25ldone\n",
      "\u001b[?25h  Installing backend dependencies ... \u001b[?25ldone\n",
      "\u001b[?25h  Preparing metadata (pyproject.toml) ... \u001b[?25ldone\n",
      "\u001b[?25hRequirement already satisfied: pytz in /Users/dbabichenko/opt/anaconda3/lib/python3.9/site-packages (from neo4j) (2022.1)\n",
      "Building wheels for collected packages: neo4j\n",
      "  Building wheel for neo4j (pyproject.toml) ... \u001b[?25ldone\n",
      "\u001b[?25h  Created wheel for neo4j: filename=neo4j-5.7.0-py3-none-any.whl size=243940 sha256=4cf16ad0b5758f1399abe0f66e09787047f8eefc3d23aa3e00ba51431f027087\n",
      "  Stored in directory: /Users/dbabichenko/Library/Caches/pip/wheels/6d/be/1e/749b84bba4b7429145ea09ccb46114fab4748625eb319f286a\n",
      "Successfully built neo4j\n",
      "Installing collected packages: neo4j\n",
      "Successfully installed neo4j-5.7.0\n"
     ]
    }
   ],
   "source": [
    "!pip install neo4j"
   ]
  },
  {
   "cell_type": "code",
   "execution_count": 50,
   "id": "ab091bca",
   "metadata": {},
   "outputs": [],
   "source": [
    "from neo4j import GraphDatabase\n",
    "from uuid import uuid4\n",
    "import pandas as pd"
   ]
  },
  {
   "cell_type": "code",
   "execution_count": 61,
   "id": "56fd943c",
   "metadata": {},
   "outputs": [],
   "source": [
    "# The following class is based on the \"Create a graph database in Neo4j using Python\" \n",
    "# tutorial by CJ Sullivan, Feb 10, 2021. \n",
    "# https://towardsdatascience.com/create-a-graph-database-in-neo4j-using-python-4172d40f89c4\n",
    "\n",
    "\n",
    "class Neo4jConnection:\n",
    "    \n",
    "    def __init__(self, uri, user, pwd):\n",
    "        self.__uri = uri\n",
    "        self.__user = user\n",
    "        self.__pwd = pwd\n",
    "        self.__driver = None\n",
    "        try:\n",
    "            self.__driver = GraphDatabase.driver(self.__uri, auth=(self.__user, self.__pwd))\n",
    "        except Exception as e:\n",
    "            print(\"Failed to create the driver:\", e)\n",
    "        \n",
    "    def close(self):\n",
    "        if self.__driver is not None:\n",
    "            self.__driver.close()\n",
    "        \n",
    "    def query(self, query, parameters=None, db=None):\n",
    "        assert self.__driver is not None, \"Driver not initialized!\"\n",
    "        session = None\n",
    "        response = None\n",
    "        try: \n",
    "            session = self.__driver.session(database=db) if db is not None else self.__driver.session() \n",
    "            response = list(session.run(query, parameters))\n",
    "        except Exception as e:\n",
    "            print(\"Query failed:\", e)\n",
    "        finally: \n",
    "            if session is not None:\n",
    "                session.close()\n",
    "        return response\n",
    "    \n",
    "    def query_to_dataframe(self, query, parameters=None, db=None):\n",
    "        df = pd.DataFrame([dict(_) for _ in self.query(query, parameters, db)])\n",
    "        return df\n"
   ]
  },
  {
   "cell_type": "code",
   "execution_count": 62,
   "id": "e74b3080",
   "metadata": {},
   "outputs": [],
   "source": [
    "conn = Neo4jConnection(uri=\"bolt://localhost:7687\", \n",
    "                       user=\"neo4j\",              \n",
    "                       pwd=\"admin123\")"
   ]
  },
  {
   "cell_type": "code",
   "execution_count": 63,
   "id": "da19e4fb",
   "metadata": {},
   "outputs": [
    {
     "name": "stdout",
     "output_type": "stream",
     "text": [
      "[<Record f=<Node element_id='4:e8ca3093-9c89-424c-8663-20395c2c8b7b:5' labels=frozenset({'Flight'}) properties={'flight_id': '250e0ce5-13a6-4688-a447-1baf9053aece'}>>]\n"
     ]
    }
   ],
   "source": [
    "qry = \"CREATE (f:Flight) SET f.flight_id = '\" + str(uuid4()) + \"' RETURN f;\"\n",
    "#print(qry)\n",
    "result = conn.query(qry)\n",
    "print(result)"
   ]
  },
  {
   "cell_type": "code",
   "execution_count": 64,
   "id": "d1625d05",
   "metadata": {},
   "outputs": [
    {
     "name": "stdout",
     "output_type": "stream",
     "text": [
      "[<Record f.flight_id='c53e8880-4cb6-4c28-9af5-bb2110289cbf'>, <Record f.flight_id='4c10f0a4-bd23-4ccd-bf46-c775b118c412'>, <Record f.flight_id='16ff5c0d-69dc-42a9-b166-571bd52d69d9'>, <Record f.flight_id='0fe2a462-478e-4a51-bd63-fa959823c496'>, <Record f.flight_id='0fe2a462-478e-4a51-bd63-fa959823c496'>, <Record f.flight_id='250e0ce5-13a6-4688-a447-1baf9053aece'>]\n"
     ]
    }
   ],
   "source": [
    "qry = \"MATCH (f:Flight) RETURN f.flight_id;\"\n",
    "result = conn.query(qry)\n",
    "print(result)"
   ]
  },
  {
   "cell_type": "code",
   "execution_count": 65,
   "id": "41f22b0e",
   "metadata": {},
   "outputs": [
    {
     "name": "stdout",
     "output_type": "stream",
     "text": [
      "c53e8880-4cb6-4c28-9af5-bb2110289cbf\n",
      "4c10f0a4-bd23-4ccd-bf46-c775b118c412\n",
      "16ff5c0d-69dc-42a9-b166-571bd52d69d9\n",
      "0fe2a462-478e-4a51-bd63-fa959823c496\n",
      "0fe2a462-478e-4a51-bd63-fa959823c496\n",
      "250e0ce5-13a6-4688-a447-1baf9053aece\n"
     ]
    }
   ],
   "source": [
    "for node in result:\n",
    "    print(node[0])"
   ]
  },
  {
   "cell_type": "code",
   "execution_count": 66,
   "id": "63b07394",
   "metadata": {},
   "outputs": [
    {
     "data": {
      "text/html": [
       "<div>\n",
       "<style scoped>\n",
       "    .dataframe tbody tr th:only-of-type {\n",
       "        vertical-align: middle;\n",
       "    }\n",
       "\n",
       "    .dataframe tbody tr th {\n",
       "        vertical-align: top;\n",
       "    }\n",
       "\n",
       "    .dataframe thead th {\n",
       "        text-align: right;\n",
       "    }\n",
       "</style>\n",
       "<table border=\"1\" class=\"dataframe\">\n",
       "  <thead>\n",
       "    <tr style=\"text-align: right;\">\n",
       "      <th></th>\n",
       "      <th>f.flight_id</th>\n",
       "    </tr>\n",
       "  </thead>\n",
       "  <tbody>\n",
       "    <tr>\n",
       "      <th>0</th>\n",
       "      <td>c53e8880-4cb6-4c28-9af5-bb2110289cbf</td>\n",
       "    </tr>\n",
       "    <tr>\n",
       "      <th>1</th>\n",
       "      <td>4c10f0a4-bd23-4ccd-bf46-c775b118c412</td>\n",
       "    </tr>\n",
       "    <tr>\n",
       "      <th>2</th>\n",
       "      <td>16ff5c0d-69dc-42a9-b166-571bd52d69d9</td>\n",
       "    </tr>\n",
       "    <tr>\n",
       "      <th>3</th>\n",
       "      <td>0fe2a462-478e-4a51-bd63-fa959823c496</td>\n",
       "    </tr>\n",
       "    <tr>\n",
       "      <th>4</th>\n",
       "      <td>0fe2a462-478e-4a51-bd63-fa959823c496</td>\n",
       "    </tr>\n",
       "    <tr>\n",
       "      <th>5</th>\n",
       "      <td>250e0ce5-13a6-4688-a447-1baf9053aece</td>\n",
       "    </tr>\n",
       "  </tbody>\n",
       "</table>\n",
       "</div>"
      ],
      "text/plain": [
       "                            f.flight_id\n",
       "0  c53e8880-4cb6-4c28-9af5-bb2110289cbf\n",
       "1  4c10f0a4-bd23-4ccd-bf46-c775b118c412\n",
       "2  16ff5c0d-69dc-42a9-b166-571bd52d69d9\n",
       "3  0fe2a462-478e-4a51-bd63-fa959823c496\n",
       "4  0fe2a462-478e-4a51-bd63-fa959823c496\n",
       "5  250e0ce5-13a6-4688-a447-1baf9053aece"
      ]
     },
     "execution_count": 66,
     "metadata": {},
     "output_type": "execute_result"
    }
   ],
   "source": [
    "df = pd.DataFrame([dict(_) for _ in conn.query(qry)])\n",
    "df.head(20)"
   ]
  },
  {
   "cell_type": "code",
   "execution_count": 67,
   "id": "11a4ac74",
   "metadata": {},
   "outputs": [],
   "source": [
    "df = conn.query_to_dataframe(qry)"
   ]
  },
  {
   "cell_type": "code",
   "execution_count": 68,
   "id": "d6cbd6e9",
   "metadata": {},
   "outputs": [
    {
     "data": {
      "text/html": [
       "<div>\n",
       "<style scoped>\n",
       "    .dataframe tbody tr th:only-of-type {\n",
       "        vertical-align: middle;\n",
       "    }\n",
       "\n",
       "    .dataframe tbody tr th {\n",
       "        vertical-align: top;\n",
       "    }\n",
       "\n",
       "    .dataframe thead th {\n",
       "        text-align: right;\n",
       "    }\n",
       "</style>\n",
       "<table border=\"1\" class=\"dataframe\">\n",
       "  <thead>\n",
       "    <tr style=\"text-align: right;\">\n",
       "      <th></th>\n",
       "      <th>f.flight_id</th>\n",
       "    </tr>\n",
       "  </thead>\n",
       "  <tbody>\n",
       "    <tr>\n",
       "      <th>0</th>\n",
       "      <td>c53e8880-4cb6-4c28-9af5-bb2110289cbf</td>\n",
       "    </tr>\n",
       "    <tr>\n",
       "      <th>1</th>\n",
       "      <td>4c10f0a4-bd23-4ccd-bf46-c775b118c412</td>\n",
       "    </tr>\n",
       "    <tr>\n",
       "      <th>2</th>\n",
       "      <td>16ff5c0d-69dc-42a9-b166-571bd52d69d9</td>\n",
       "    </tr>\n",
       "    <tr>\n",
       "      <th>3</th>\n",
       "      <td>0fe2a462-478e-4a51-bd63-fa959823c496</td>\n",
       "    </tr>\n",
       "    <tr>\n",
       "      <th>4</th>\n",
       "      <td>0fe2a462-478e-4a51-bd63-fa959823c496</td>\n",
       "    </tr>\n",
       "  </tbody>\n",
       "</table>\n",
       "</div>"
      ],
      "text/plain": [
       "                            f.flight_id\n",
       "0  c53e8880-4cb6-4c28-9af5-bb2110289cbf\n",
       "1  4c10f0a4-bd23-4ccd-bf46-c775b118c412\n",
       "2  16ff5c0d-69dc-42a9-b166-571bd52d69d9\n",
       "3  0fe2a462-478e-4a51-bd63-fa959823c496\n",
       "4  0fe2a462-478e-4a51-bd63-fa959823c496"
      ]
     },
     "execution_count": 68,
     "metadata": {},
     "output_type": "execute_result"
    }
   ],
   "source": [
    "df.head()"
   ]
  },
  {
   "cell_type": "code",
   "execution_count": null,
   "id": "9e94c60d",
   "metadata": {},
   "outputs": [],
   "source": []
  }
 ],
 "metadata": {
  "kernelspec": {
   "display_name": "Python 3 (ipykernel)",
   "language": "python",
   "name": "python3"
  },
  "language_info": {
   "codemirror_mode": {
    "name": "ipython",
    "version": 3
   },
   "file_extension": ".py",
   "mimetype": "text/x-python",
   "name": "python",
   "nbconvert_exporter": "python",
   "pygments_lexer": "ipython3",
   "version": "3.9.13"
  }
 },
 "nbformat": 4,
 "nbformat_minor": 5
}
