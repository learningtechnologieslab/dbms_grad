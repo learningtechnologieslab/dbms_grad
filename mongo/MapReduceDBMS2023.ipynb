{
 "cells": [
  {
   "cell_type": "markdown",
   "id": "355a7da4",
   "metadata": {},
   "source": [
    "### Reduce() function"
   ]
  },
  {
   "cell_type": "markdown",
   "id": "de6b0ef4",
   "metadata": {},
   "source": [
    "* reduce() implements a mathematical technique commonly known as folding or reduction\n",
    "* A fold or reduction reduces a list of items to a single cumulative value. \n",
    "* Python’s reduce() operates on any iterable—not just lists—and performs the following steps:\n",
    "    * Apply a function (or callable) to the first two items in an iterable and generate a partial result.\n",
    "    * Use that partial result, together with the third item in the iterable, to generate another partial result.\n",
    "    * Repeat the process until the iterable is exhausted and then return a single cumulative value.\n",
    "* The idea behind reduce() is to take an existing function, apply it cumulatively to all the items in an iterable, and generate a single final value. \n",
    "* In general, reduce() is handy for processing iterables without writing explicit for loops. \n",
    "* Since reduce() is written in C, its internal loop can be faster than an explicit Python for loop.\n",
    "\n",
    "**reduce in Python 3.x**\n",
    "* reduce() was originally a built-in function (and still is in Python 2.x)\n",
    "* Was moved to functools.reduce() in Python 3.0. \n",
    "* A reason for moving reduce() to functools was the introduction of built-in functions like sum(), any(), all(), max(), min(), and len(), which provide more efficient, readable ways of addressing common use cases for reduce(). \n",
    "* In Python 3.x, have to import the function into the current scope using an import statement in one of the following ways:\n",
    "    * _import functools_ and then use fully-qualified names like functools.reduce().\n",
    "    * _from functools_ import reduce and then call reduce() directly.\n",
    "    \n",
    "**reduce() signature in Python**\n",
    "\n",
    "_functools.reduce(function, iterable[, initializer])_\n",
    "\n",
    "Roughly equivalent to the following Python function:"
   ]
  },
  {
   "cell_type": "code",
   "execution_count": 66,
   "id": "552dbd32",
   "metadata": {},
   "outputs": [],
   "source": [
    "def reduce(function, iterable, initializer=None):\n",
    "    it = iter(iterable)\n",
    "    if initializer is None:\n",
    "        value = next(it)\n",
    "    else:\n",
    "        value = initializer\n",
    "    for element in it:\n",
    "        value = function(value, element)\n",
    "    return value"
   ]
  },
  {
   "cell_type": "markdown",
   "id": "e3a7ca35",
   "metadata": {},
   "source": [
    "* Like the function above, **reduce()** works by applying a two-argument function to the items of iterable in a loop from left to right, ultimately reducing iterable to a single cumulative value.\n",
    "* reduce() also accepts a third and optional argument called initializer that provides a seed value to the computation or reduction.\n",
    "\n",
    "**The Required Arguments: function and iterable**\n",
    "\n",
    "* The first argument to reduce() is a two-argument function called function. \n",
    "* This function will be applied to the items in an iterable to cumulatively compute a final value.\n",
    "* You can pass any Python callable to reduce() as long as the callable accepts two arguments. \n",
    "\n",
    "\n",
    "To understand how reduce() works, we are going to write a function that computes the sum of two numbers and prints the equivalent math operation to the screen. "
   ]
  },
  {
   "cell_type": "code",
   "execution_count": 1,
   "id": "0246c762",
   "metadata": {},
   "outputs": [],
   "source": [
    "def my_add(a, b):\n",
    "    result = a + b\n",
    "    print(f\"{a} + {b} = {result}\")\n",
    "    return result\n"
   ]
  },
  {
   "cell_type": "code",
   "execution_count": 2,
   "id": "ed37809c",
   "metadata": {},
   "outputs": [
    {
     "name": "stdout",
     "output_type": "stream",
     "text": [
      "10 + 5 = 15\n"
     ]
    },
    {
     "data": {
      "text/plain": [
       "15"
      ]
     },
     "execution_count": 2,
     "metadata": {},
     "output_type": "execute_result"
    }
   ],
   "source": [
    "my_add(10, 5)"
   ]
  },
  {
   "cell_type": "markdown",
   "id": "5e93b7c6",
   "metadata": {},
   "source": [
    "my_add() is a two-argument function, so you can pass it to Python’s reduce() along with an iterable to compute the cumulative sum of the items in the iterable. "
   ]
  },
  {
   "cell_type": "code",
   "execution_count": 3,
   "id": "555fe892",
   "metadata": {},
   "outputs": [
    {
     "name": "stdout",
     "output_type": "stream",
     "text": [
      "0 + 1 = 1\n",
      "1 + 2 = 3\n",
      "3 + 3 = 6\n",
      "6 + 4 = 10\n"
     ]
    },
    {
     "data": {
      "text/plain": [
       "10"
      ]
     },
     "execution_count": 3,
     "metadata": {},
     "output_type": "execute_result"
    }
   ],
   "source": [
    "from functools import reduce\n",
    "\n",
    "numbers = [0, 1, 2, 3, 4]\n",
    "\n",
    "reduce(my_add, numbers)"
   ]
  },
  {
   "cell_type": "markdown",
   "id": "b94b4642",
   "metadata": {},
   "source": [
    "#### The Optional Argument: initializer\n",
    "* The third argument to Python’s reduce(), called initializer, is optional. \n",
    "* If you supply a value to initializer, then reduce() will feed it to the first call of function as its first argument.\n",
    "* This means that the first call to function will use the value of initializer and the first item of iterable to perform its first partial computation. \n",
    "* After this, reduce() continues working with the subsequent items of iterable."
   ]
  },
  {
   "cell_type": "code",
   "execution_count": 80,
   "id": "1ce853f2",
   "metadata": {},
   "outputs": [
    {
     "name": "stdout",
     "output_type": "stream",
     "text": [
      "100 + 0 = 100\n",
      "100 + 1 = 101\n",
      "101 + 2 = 103\n",
      "103 + 3 = 106\n",
      "106 + 4 = 110\n"
     ]
    },
    {
     "data": {
      "text/plain": [
       "110"
      ]
     },
     "execution_count": 80,
     "metadata": {},
     "output_type": "execute_result"
    }
   ],
   "source": [
    "from functools import reduce\n",
    "numbers = [0, 1, 2, 3, 4]\n",
    "reduce(my_add, numbers, 100)"
   ]
  },
  {
   "cell_type": "markdown",
   "id": "0d517fc3",
   "metadata": {},
   "source": [
    "* Since you supply a value of 100 to initializer, reduce() uses that value in the first call as the first argument to my_add(). \n",
    "* Note that in the first iteration, my_add() uses 100 and 0, which is the first item of numbers, to perform the calculation 100 + 0 = 100.\n",
    "* Another point to note is that, if you supply a value to initializer, then reduce() will perform one more iteration than it would without an initializer.\n"
   ]
  },
  {
   "cell_type": "markdown",
   "id": "8bc5622f",
   "metadata": {},
   "source": [
    "* If you’re planning to use reduce() to process iterables that may potentially be empty, then it’s good practice to provide a value to initializer. \n",
    "* Python’s reduce() will use this value as its default return value when iterable is empty. \n",
    "* If you don’t provide an initializer value, then reduce() will raise a TypeError."
   ]
  },
  {
   "cell_type": "code",
   "execution_count": 5,
   "id": "d1f7d674",
   "metadata": {},
   "outputs": [
    {
     "data": {
      "text/plain": [
       "0"
      ]
     },
     "execution_count": 5,
     "metadata": {},
     "output_type": "execute_result"
    }
   ],
   "source": [
    "# Using an initializer value\n",
    "reduce(my_add, [], 0)  # Use 0 as initializer value\n"
   ]
  },
  {
   "cell_type": "code",
   "execution_count": 6,
   "id": "82903227",
   "metadata": {},
   "outputs": [
    {
     "ename": "TypeError",
     "evalue": "reduce() of empty sequence with no initial value",
     "output_type": "error",
     "traceback": [
      "\u001b[0;31m---------------------------------------------------------------------------\u001b[0m",
      "\u001b[0;31mTypeError\u001b[0m                                 Traceback (most recent call last)",
      "\u001b[0;32m/var/folders/g5/769syzw563n0bl73j5k78klc0000gn/T/ipykernel_32300/1665966103.py\u001b[0m in \u001b[0;36m<module>\u001b[0;34m\u001b[0m\n\u001b[1;32m      1\u001b[0m \u001b[0;31m# Using no initializer value\u001b[0m\u001b[0;34m\u001b[0m\u001b[0;34m\u001b[0m\u001b[0m\n\u001b[0;32m----> 2\u001b[0;31m \u001b[0mreduce\u001b[0m\u001b[0;34m(\u001b[0m\u001b[0mmy_add\u001b[0m\u001b[0;34m,\u001b[0m \u001b[0;34m[\u001b[0m\u001b[0;34m]\u001b[0m\u001b[0;34m)\u001b[0m  \u001b[0;31m# Raise a TypeError with an empty iterable\u001b[0m\u001b[0;34m\u001b[0m\u001b[0;34m\u001b[0m\u001b[0m\n\u001b[0m",
      "\u001b[0;31mTypeError\u001b[0m: reduce() of empty sequence with no initial value"
     ]
    }
   ],
   "source": [
    "# Using no initializer value\n",
    "reduce(my_add, [])  # Raise a TypeError with an empty iterable\n"
   ]
  },
  {
   "cell_type": "markdown",
   "id": "56cf663c",
   "metadata": {},
   "source": [
    "### Reduce() use cases"
   ]
  },
  {
   "cell_type": "markdown",
   "id": "c3bac106",
   "metadata": {},
   "source": [
    "**Summing Numeric Values**\n",
    "\n",
    "* The \"Hello, World!\" of Python’s reduce() is the sum use case. \n",
    "* It involves calculating the cumulative sum of a list of numbers. \n",
    "* Say you have a list of numbers like [1, 2, 3, 4]. \n",
    "* Its sum will be 1 + 2 + 3 + 4 = 10. \n",
    "* Here’s a quick example of how to solve this problem using a Python for loop:"
   ]
  },
  {
   "cell_type": "code",
   "execution_count": 7,
   "id": "d82f9efb",
   "metadata": {},
   "outputs": [
    {
     "name": "stdout",
     "output_type": "stream",
     "text": [
      "10\n"
     ]
    }
   ],
   "source": [
    "numbers = [1, 2, 3, 4]\n",
    "total = 0\n",
    "for num in numbers:\n",
    "    total += num\n",
    "\n",
    "print(total)"
   ]
  },
  {
   "cell_type": "markdown",
   "id": "e794bacf",
   "metadata": {},
   "source": [
    "* This is arguably the most common use case for Python’s reduce(). \n",
    "* To implement this operation with reduce(), we have several options. * Some of them include using reduce() with one of the following functions:\n",
    "    * A user-defined function\n",
    "    * A lambda function\n",
    "    * A function called operator.add()\n",
    "\n",
    "* To use a user-defined function, we need to write a function that adds two numbers. \n",
    "* Then we can use that function with reduce(). \n",
    "\n",
    "Let's rewrite my_add() as follows:"
   ]
  },
  {
   "cell_type": "code",
   "execution_count": 14,
   "id": "17ce2f4a",
   "metadata": {},
   "outputs": [],
   "source": [
    "def my_add(a, b):\n",
    "    return a + b"
   ]
  },
  {
   "cell_type": "code",
   "execution_count": 15,
   "id": "8d1cdf58",
   "metadata": {},
   "outputs": [
    {
     "data": {
      "text/plain": [
       "10"
      ]
     },
     "execution_count": 15,
     "metadata": {},
     "output_type": "execute_result"
    }
   ],
   "source": [
    "numbers = [1, 2, 3, 4]\n",
    "reduce(my_add, numbers)"
   ]
  },
  {
   "cell_type": "markdown",
   "id": "e95a42ea",
   "metadata": {},
   "source": [
    "The call to reduce() applies my_add() to the items in numbers to compute their cumulative sum. The final result is 10, as expected.\n",
    "\n",
    "**reduce() with a lambda function**\n",
    "* You can also perform the same computation by using a lambda function. \n",
    "* In this case, you need a lambda function that takes two numbers as arguments and returns their sum. \n",
    "\n",
    "Take a look at the following example:"
   ]
  },
  {
   "cell_type": "code",
   "execution_count": 16,
   "id": "f25c633f",
   "metadata": {},
   "outputs": [
    {
     "data": {
      "text/plain": [
       "10"
      ]
     },
     "execution_count": 16,
     "metadata": {},
     "output_type": "execute_result"
    }
   ],
   "source": [
    "numbers = [1, 2, 3, 4]\n",
    "reduce(lambda a, b: a + b, numbers)"
   ]
  },
  {
   "cell_type": "markdown",
   "id": "950d80e4",
   "metadata": {},
   "source": [
    "* The lambda function takes two arguments and returns their sum. \n",
    "* reduce() applies the lambda function in a loop to compute the cumulative sum of the items in numbers.\n",
    "\n",
    "**reduce with operator module**\n",
    "* We can take advantage of a Python module called operator. \n",
    "* This module exports a bunch of functions that correspond to Python’s intrinsic operators. \n",
    "* For the problem at hand, you can use operator.add() along with Python’s reduce(). \n",
    "\n",
    "Check out the following example:"
   ]
  },
  {
   "cell_type": "code",
   "execution_count": 17,
   "id": "904b9101",
   "metadata": {},
   "outputs": [
    {
     "data": {
      "text/plain": [
       "3"
      ]
     },
     "execution_count": 17,
     "metadata": {},
     "output_type": "execute_result"
    }
   ],
   "source": [
    "from operator import add\n",
    "\n",
    "add(1, 2)"
   ]
  },
  {
   "cell_type": "code",
   "execution_count": 18,
   "id": "bf1cc05d",
   "metadata": {},
   "outputs": [
    {
     "data": {
      "text/plain": [
       "10"
      ]
     },
     "execution_count": 18,
     "metadata": {},
     "output_type": "execute_result"
    }
   ],
   "source": [
    "numbers = [1, 2, 3, 4]\n",
    "reduce(add, numbers)"
   ]
  },
  {
   "cell_type": "markdown",
   "id": "ebaa4fe2",
   "metadata": {},
   "source": [
    "* In this example, add() takes two arguments and returns their sum. \n",
    "* We can use add() with reduce() to compute the sum of all the items of numbers. \n",
    "* Since add() is written in C and optimized for efficiency, it may be our best choice when using reduce() for solving the sum use case. \n",
    "\n",
    "**sum() function**\n",
    "\n",
    "* The sum use case is so common in programming that Python, since version 2.3, has included a dedicated built-in function, _sum()_, to solve it. _sum()_ is declared as _sum(iterable[, start])_.\n",
    "* start is an optional argument to sum() and defaults to 0. \n",
    "* The function adds the value of start to the items of iterable from left to right and returns the total. \n",
    "\n",
    "Take a look at the following example:"
   ]
  },
  {
   "cell_type": "code",
   "execution_count": 19,
   "id": "35a3dde0",
   "metadata": {},
   "outputs": [
    {
     "data": {
      "text/plain": [
       "10"
      ]
     },
     "execution_count": 19,
     "metadata": {},
     "output_type": "execute_result"
    }
   ],
   "source": [
    "numbers = [1, 2, 3, 4]\n",
    "sum(numbers)"
   ]
  },
  {
   "cell_type": "markdown",
   "id": "f55b655b",
   "metadata": {},
   "source": [
    "**Multiplying Numeric Values**\n",
    "\n",
    "* The **product** use case of Python’s reduce() is similar to the sum use case, but this time the operation is multiplication. \n",
    "* In other words, you need to calculate the product of all the values in an iterable.\n",
    "\n",
    "* For example, you have the list [1, 2, 3, 4]. \n",
    "* Its product will be 1 * 2 * 3 * 4 = 24. \n",
    "* You can calculate this using a Python for loop. \n",
    "\n",
    "Check out the following example:"
   ]
  },
  {
   "cell_type": "code",
   "execution_count": 20,
   "id": "04a1ac23",
   "metadata": {},
   "outputs": [
    {
     "name": "stdout",
     "output_type": "stream",
     "text": [
      "24\n"
     ]
    }
   ],
   "source": [
    "numbers = [1, 2, 3, 4]\n",
    "product = 1\n",
    "for num in numbers:\n",
    "    product *= num\n",
    "\n",
    "print(product)"
   ]
  },
  {
   "cell_type": "markdown",
   "id": "ffe79c31",
   "metadata": {},
   "source": [
    "As with the previous example, we can use reduce() with:\n",
    "\n",
    "* A user-defined function\n",
    "* A lambda function\n",
    "* A function called operator.mul()"
   ]
  },
  {
   "cell_type": "code",
   "execution_count": 21,
   "id": "a9068a19",
   "metadata": {},
   "outputs": [
    {
     "data": {
      "text/plain": [
       "2"
      ]
     },
     "execution_count": 21,
     "metadata": {},
     "output_type": "execute_result"
    }
   ],
   "source": [
    "# A user-defined function\n",
    "def my_prod(a, b):\n",
    "    return a * b\n",
    "\n",
    "my_prod(1, 2)"
   ]
  },
  {
   "cell_type": "code",
   "execution_count": 22,
   "id": "50528b79",
   "metadata": {},
   "outputs": [
    {
     "data": {
      "text/plain": [
       "24"
      ]
     },
     "execution_count": 22,
     "metadata": {},
     "output_type": "execute_result"
    }
   ],
   "source": [
    "numbers = [1, 2, 3, 4]\n",
    "reduce(my_prod, numbers)"
   ]
  },
  {
   "cell_type": "code",
   "execution_count": 24,
   "id": "cc854d2f",
   "metadata": {},
   "outputs": [
    {
     "data": {
      "text/plain": [
       "24"
      ]
     },
     "execution_count": 24,
     "metadata": {},
     "output_type": "execute_result"
    }
   ],
   "source": [
    "# Lambda function\n",
    "numbers = [1, 2, 3, 4]\n",
    "reduce(lambda a, b: a * b, numbers)"
   ]
  },
  {
   "cell_type": "code",
   "execution_count": 25,
   "id": "e9f53868",
   "metadata": {},
   "outputs": [
    {
     "data": {
      "text/plain": [
       "4"
      ]
     },
     "execution_count": 25,
     "metadata": {},
     "output_type": "execute_result"
    }
   ],
   "source": [
    "# A function called operator.mul()\n",
    "from operator import mul\n",
    "mul(2, 2)"
   ]
  },
  {
   "cell_type": "code",
   "execution_count": 26,
   "id": "c19aa421",
   "metadata": {},
   "outputs": [
    {
     "data": {
      "text/plain": [
       "24"
      ]
     },
     "execution_count": 26,
     "metadata": {},
     "output_type": "execute_result"
    }
   ],
   "source": [
    "numbers = [1, 2, 3, 4]\n",
    "reduce(mul, numbers)"
   ]
  },
  {
   "cell_type": "markdown",
   "id": "42e969f9",
   "metadata": {},
   "source": [
    "**Checking if All Values Are True**\n",
    "* The all-true use case of Python’s reduce() involves finding out whether or not all the items in an iterable are true. \n",
    "* To solve this problem, you can use reduce() along with a user-defined function or a lambda function."
   ]
  },
  {
   "cell_type": "code",
   "execution_count": 28,
   "id": "4c608d17",
   "metadata": {},
   "outputs": [],
   "source": [
    "def check_all_true(iterable):\n",
    "    for item in iterable:\n",
    "        if not item:\n",
    "            return False\n",
    "    return True"
   ]
  },
  {
   "cell_type": "code",
   "execution_count": 81,
   "id": "8f2b131e",
   "metadata": {},
   "outputs": [
    {
     "data": {
      "text/plain": [
       "True"
      ]
     },
     "execution_count": 81,
     "metadata": {},
     "output_type": "execute_result"
    }
   ],
   "source": [
    "check_all_true([1, 1, 1, 1, 1])"
   ]
  },
  {
   "cell_type": "code",
   "execution_count": 30,
   "id": "cebea36f",
   "metadata": {},
   "outputs": [
    {
     "data": {
      "text/plain": [
       "False"
      ]
     },
     "execution_count": 30,
     "metadata": {},
     "output_type": "execute_result"
    }
   ],
   "source": [
    "check_all_true([1, 1, 1, 1, 0])"
   ]
  },
  {
   "cell_type": "code",
   "execution_count": 31,
   "id": "c67306f5",
   "metadata": {},
   "outputs": [
    {
     "data": {
      "text/plain": [
       "True"
      ]
     },
     "execution_count": 31,
     "metadata": {},
     "output_type": "execute_result"
    }
   ],
   "source": [
    "check_all_true([])"
   ]
  },
  {
   "cell_type": "markdown",
   "id": "85053a41",
   "metadata": {},
   "source": [
    "**Check if all true using reduce()**"
   ]
  },
  {
   "cell_type": "code",
   "execution_count": 32,
   "id": "b0b3f7f9",
   "metadata": {},
   "outputs": [],
   "source": [
    "def both_true(a, b):\n",
    "    return bool(a and b)"
   ]
  },
  {
   "cell_type": "code",
   "execution_count": 33,
   "id": "9984dbfb",
   "metadata": {},
   "outputs": [
    {
     "data": {
      "text/plain": [
       "True"
      ]
     },
     "execution_count": 33,
     "metadata": {},
     "output_type": "execute_result"
    }
   ],
   "source": [
    "both_true(1, 1)"
   ]
  },
  {
   "cell_type": "code",
   "execution_count": 34,
   "id": "19911661",
   "metadata": {},
   "outputs": [
    {
     "data": {
      "text/plain": [
       "False"
      ]
     },
     "execution_count": 34,
     "metadata": {},
     "output_type": "execute_result"
    }
   ],
   "source": [
    "both_true(1, 0)"
   ]
  },
  {
   "cell_type": "code",
   "execution_count": 35,
   "id": "ac5edbfc",
   "metadata": {},
   "outputs": [
    {
     "data": {
      "text/plain": [
       "False"
      ]
     },
     "execution_count": 35,
     "metadata": {},
     "output_type": "execute_result"
    }
   ],
   "source": [
    "both_true(0, 0)"
   ]
  },
  {
   "cell_type": "code",
   "execution_count": null,
   "id": "85209b48",
   "metadata": {},
   "outputs": [],
   "source": []
  },
  {
   "cell_type": "markdown",
   "id": "1c10d8c8",
   "metadata": {},
   "source": [
    "### Map() function\n",
    "* A Python built-in function. \n",
    "* With map(), you can apply a function to each element in an iterable in turn, and map() will return an iterator that yields the results. \n",
    "* This can allow for some very concise code because a _map()_ statement can often take the place of an explicit loop.\n",
    "\n",
    "* map() function returns a list of the results after applying the given function to each item of a given iterable (list, tuple etc.)\n",
    "* **Syntax**: map(fun, iter)\n",
    "* **Parameters**:\n",
    "    * **fun**: It is a function to which map passes each element of given iterable.\n",
    "    * **iter**: It is a iterable which is to be mapped.\n",
    "    * **Return Type**: Returns an iterator of map class.\n"
   ]
  },
  {
   "cell_type": "code",
   "execution_count": 4,
   "id": "79075630",
   "metadata": {},
   "outputs": [],
   "source": [
    "# Return double of n \n",
    "def addition(n): \n",
    "    return n + n "
   ]
  },
  {
   "cell_type": "code",
   "execution_count": 5,
   "id": "973c57b8",
   "metadata": {},
   "outputs": [],
   "source": [
    "# We double all numbers using map() \n",
    "numbers = (1, 2, 3, 4) \n",
    "results = map(addition, numbers) "
   ]
  },
  {
   "cell_type": "code",
   "execution_count": 6,
   "id": "41e09933",
   "metadata": {},
   "outputs": [
    {
     "name": "stdout",
     "output_type": "stream",
     "text": [
      "<map object at 0x7f9ad09e17f0>\n"
     ]
    }
   ],
   "source": [
    "# Does not Print the value\n",
    "print(results)"
   ]
  },
  {
   "cell_type": "code",
   "execution_count": 7,
   "id": "55fedb37",
   "metadata": {
    "scrolled": true
   },
   "outputs": [
    {
     "name": "stdout",
     "output_type": "stream",
     "text": [
      "2 4 6 8 "
     ]
    }
   ],
   "source": [
    "# For Printing value\n",
    "for result in results:\n",
    "    print(result, end = \" \")"
   ]
  },
  {
   "cell_type": "markdown",
   "id": "5ea42667",
   "metadata": {},
   "source": [
    "**Calling _map()_ With a Single Iterable**\n",
    "The syntax for calling map() on a single iterable looks like this:\n",
    "\n",
    "_map(\\<f\\>, \\<iterable\\>)_\n",
    "\n",
    "map(\\<f\\>, \\<iterable\\>) returns in iterator that yields the results of applying function <\\f\\> to each element of <\\iterable\\>."
   ]
  },
  {
   "cell_type": "markdown",
   "id": "628063ca",
   "metadata": {},
   "source": [
    "**Example**. \n",
    "Suppose you’ve defined reverse(), a function that takes a string argument and returns its reverse, using the [::-1] string slicing mechanism:\n"
   ]
  },
  {
   "cell_type": "code",
   "execution_count": 102,
   "id": "3b8a4c4b",
   "metadata": {},
   "outputs": [
    {
     "data": {
      "text/plain": [
       "'gnirts a ma I'"
      ]
     },
     "execution_count": 102,
     "metadata": {},
     "output_type": "execute_result"
    }
   ],
   "source": [
    "def reverse(s):\n",
    "    return s[::-1]\n",
    "\n",
    "reverse(\"I am a string\")"
   ]
  },
  {
   "cell_type": "markdown",
   "id": "898e2551",
   "metadata": {},
   "source": [
    "If you have a list of strings, then you can use map() to apply reverse() to each element of the list:"
   ]
  },
  {
   "cell_type": "code",
   "execution_count": 74,
   "id": "10e61a22",
   "metadata": {},
   "outputs": [
    {
     "data": {
      "text/plain": [
       "<map at 0x7fb760fde220>"
      ]
     },
     "execution_count": 74,
     "metadata": {},
     "output_type": "execute_result"
    }
   ],
   "source": [
    "animals = [\"cat\", \"dog\", \"hedgehog\", \"gecko\"]\n",
    "iterator = map(reverse, animals)\n",
    "iterator"
   ]
  },
  {
   "cell_type": "markdown",
   "id": "c7076473",
   "metadata": {},
   "source": [
    "**Note:** map() doesn’t return a list. It returns an iterator called a map object. To obtain the values from the iterator, you need to either iterate over it or use list():"
   ]
  },
  {
   "cell_type": "code",
   "execution_count": 75,
   "id": "1e277eb5",
   "metadata": {},
   "outputs": [
    {
     "name": "stdout",
     "output_type": "stream",
     "text": [
      "tac\n",
      "god\n",
      "gohegdeh\n",
      "okceg\n"
     ]
    }
   ],
   "source": [
    "iterator = map(reverse, animals)\n",
    "for i in iterator:\n",
    "    print(i)\n"
   ]
  },
  {
   "cell_type": "code",
   "execution_count": 76,
   "id": "8c50f747",
   "metadata": {},
   "outputs": [
    {
     "data": {
      "text/plain": [
       "['tac', 'god', 'gohegdeh', 'okceg']"
      ]
     },
     "execution_count": 76,
     "metadata": {},
     "output_type": "execute_result"
    }
   ],
   "source": [
    "iterator = map(reverse, animals)\n",
    "list(iterator)\n"
   ]
  },
  {
   "cell_type": "markdown",
   "id": "922b599f",
   "metadata": {},
   "source": [
    "**Calling map() With Multiple Iterables**\n",
    "\n",
    "There’s another form of map() that takes more than one iterable argument:\n",
    "\n",
    " _map(\\<f\\>, \\<iterable₁\\>, \\<iterable₂\\>, ..., \\<iterableₙ\\>)\n",
    " _map(\\<f\\>, \\<iterable₁\\>, \\<iterable₂\\>, ..., \\<iterableₙ\\>) applies \\<f\\> to the elements in each \\<iterablei\\> in parallel and returns an iterator that yields the results.\n",
    "\n",
    "* The number of \\<iterablei\\> arguments specified to map() must match the number of arguments that \\<f\\> expects. \n",
    "* \\<f\\> acts on the first item of each \\<iterablei\\>, and that result becomes the first item that the return iterator yields. \n",
    "* Then \\<f\\> acts on the second item in each \\<iterablei\\>, and that becomes the second yielded item, and so on."
   ]
  },
  {
   "cell_type": "code",
   "execution_count": 78,
   "id": "0cbe0f71",
   "metadata": {},
   "outputs": [
    {
     "data": {
      "text/plain": [
       "[111, 222, 333]"
      ]
     },
     "execution_count": 78,
     "metadata": {},
     "output_type": "execute_result"
    }
   ],
   "source": [
    "def f(a, b, c):\n",
    "    return a + b + c\n",
    "\n",
    "list(map(f, [1, 2, 3], [10, 20, 30], [100, 200, 300]))"
   ]
  },
  {
   "cell_type": "markdown",
   "id": "bc736fd3",
   "metadata": {},
   "source": [
    "* In this case, _f()_ takes three arguments. \n",
    "* Correspondingly, there are three iterable arguments to map(): the lists [1, 2, 3], [10, 20, 30], and [100, 200, 300].\n",
    "* The first item returned is the result of applying _f()_ to the first element in each list: f(1, 10, 100). \n",
    "* The second item returned is f(2, 20, 200)\n",
    "* The third is f(3, 30, 300)\n",
    "<img src=\"map_iterator_diagram.png\" width=\"50%\" />\n",
    "<sub>John Sturtz. Functional Programming in Python: When and How to Use \n",
    "It. https://realpython.com/python-functional-programming/</sub>\n"
   ]
  },
  {
   "cell_type": "code",
   "execution_count": null,
   "id": "acdf0f3b",
   "metadata": {},
   "outputs": [],
   "source": []
  }
 ],
 "metadata": {
  "kernelspec": {
   "display_name": "Python 3 (ipykernel)",
   "language": "python",
   "name": "python3"
  },
  "language_info": {
   "codemirror_mode": {
    "name": "ipython",
    "version": 3
   },
   "file_extension": ".py",
   "mimetype": "text/x-python",
   "name": "python",
   "nbconvert_exporter": "python",
   "pygments_lexer": "ipython3",
   "version": "3.9.13"
  }
 },
 "nbformat": 4,
 "nbformat_minor": 5
}
