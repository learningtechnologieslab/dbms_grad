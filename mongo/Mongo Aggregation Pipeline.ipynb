{
 "cells": [
  {
   "cell_type": "code",
   "execution_count": 19,
   "id": "38df1dad",
   "metadata": {},
   "outputs": [
    {
     "name": "stdout",
     "output_type": "stream",
     "text": [
      "Requirement already satisfied: pymongo in /Users/dbabichenko/opt/anaconda3/lib/python3.9/site-packages (4.3.3)\n",
      "Requirement already satisfied: dnspython<3.0.0,>=1.16.0 in /Users/dbabichenko/opt/anaconda3/lib/python3.9/site-packages (from pymongo) (2.2.1)\n"
     ]
    }
   ],
   "source": [
    "!pip3 install pymongo"
   ]
  },
  {
   "cell_type": "code",
   "execution_count": 18,
   "id": "90834640",
   "metadata": {},
   "outputs": [],
   "source": [
    "from pymongo import MongoClient\n",
    "from bson.json_util import dumps, loads"
   ]
  },
  {
   "cell_type": "code",
   "execution_count": 2,
   "id": "b81229bd",
   "metadata": {},
   "outputs": [],
   "source": [
    "client = MongoClient('localhost', 27017)"
   ]
  },
  {
   "cell_type": "code",
   "execution_count": 3,
   "id": "74e429f1",
   "metadata": {},
   "outputs": [],
   "source": [
    "database = client['videoreviews']"
   ]
  },
  {
   "cell_type": "code",
   "execution_count": 4,
   "id": "bc3b6876",
   "metadata": {},
   "outputs": [],
   "source": [
    "collection = database.get_collection('video_movies')"
   ]
  },
  {
   "cell_type": "markdown",
   "id": "adf17fd6",
   "metadata": {},
   "source": [
    "### Aggregation _$group_"
   ]
  },
  {
   "cell_type": "code",
   "execution_count": 5,
   "id": "3ef06b28",
   "metadata": {},
   "outputs": [
    {
     "name": "stdout",
     "output_type": "stream",
     "text": [
      "{'_id': 2010}\n",
      "{'_id': 1940}\n",
      "{'_id': 1978}\n",
      "{'_id': 1981}\n",
      "{'_id': 2002}\n",
      "{'_id': 2013}\n",
      "{'_id': 2007}\n",
      "{'_id': 1988}\n",
      "{'_id': 1968}\n",
      "{'_id': 1932}\n",
      "{'_id': 1960}\n",
      "{'_id': 1975}\n",
      "{'_id': 2015}\n",
      "{'_id': 1974}\n",
      "{'_id': 1900}\n",
      "{'_id': 1944}\n",
      "{'_id': 1948}\n",
      "{'_id': 1962}\n",
      "{'_id': 1938}\n",
      "{'_id': 2006}\n",
      "{'_id': 1986}\n",
      "{'_id': 2004}\n",
      "{'_id': 1942}\n",
      "{'_id': 1925}\n",
      "{'_id': 1935}\n",
      "{'_id': 1939}\n",
      "{'_id': 1971}\n",
      "{'_id': 1906}\n",
      "{'_id': 1896}\n",
      "{'_id': 1902}\n",
      "{'_id': 2011}\n",
      "{'_id': 1983}\n",
      "{'_id': 1936}\n",
      "{'_id': 1953}\n",
      "{'_id': 1993}\n",
      "{'_id': 1985}\n",
      "{'_id': 1920}\n",
      "{'_id': 1937}\n",
      "{'_id': 1973}\n",
      "{'_id': 1915}\n",
      "{'_id': 1943}\n",
      "{'_id': 1991}\n",
      "{'_id': 1930}\n",
      "{'_id': 1954}\n",
      "{'_id': 1921}\n",
      "{'_id': 1933}\n",
      "{'_id': 1931}\n",
      "{'_id': 1926}\n",
      "{'_id': 1947}\n",
      "{'_id': 1967}\n",
      "{'_id': 1928}\n",
      "{'_id': 1929}\n",
      "{'_id': 2001}\n",
      "{'_id': 2005}\n",
      "{'_id': 1897}\n",
      "{'_id': 1945}\n",
      "{'_id': 1949}\n",
      "{'_id': 1961}\n",
      "{'_id': 1970}\n",
      "{'_id': 1976}\n",
      "{'_id': 1963}\n",
      "{'_id': 1959}\n",
      "{'_id': 1927}\n",
      "{'_id': 1982}\n",
      "{'_id': 1997}\n",
      "{'_id': 1918}\n",
      "{'_id': 1995}\n",
      "{'_id': 1969}\n",
      "{'_id': 1919}\n",
      "{'_id': 1909}\n",
      "{'_id': 1916}\n",
      "{'_id': 1904}\n",
      "{'_id': 1972}\n",
      "{'_id': 2016}\n",
      "{'_id': 1946}\n",
      "{'_id': 1901}\n",
      "{'_id': 1999}\n",
      "{'_id': 1956}\n",
      "{'_id': 1996}\n",
      "{'_id': 1911}\n",
      "{'_id': 1941}\n",
      "{'_id': 1952}\n",
      "{'_id': 1958}\n",
      "{'_id': 1950}\n",
      "{'_id': 1964}\n",
      "{'_id': 1966}\n",
      "{'_id': 1912}\n",
      "{'_id': 1924}\n",
      "{'_id': 1905}\n",
      "{'_id': 1955}\n",
      "{'_id': 1989}\n",
      "{'_id': 1910}\n",
      "{'_id': 1951}\n",
      "{'_id': 1998}\n",
      "{'_id': 1977}\n",
      "{'_id': 1984}\n",
      "{'_id': 1957}\n",
      "{'_id': 1899}\n",
      "{'_id': 2009}\n",
      "{'_id': 1923}\n",
      "{'_id': 1979}\n",
      "{'_id': 1914}\n",
      "{'_id': 1903}\n",
      "{'_id': 1994}\n",
      "{'_id': 1934}\n",
      "{'_id': 1987}\n",
      "{'_id': 2000}\n",
      "{'_id': 1980}\n",
      "{'_id': 1965}\n",
      "{'_id': 2012}\n",
      "{'_id': 1908}\n",
      "{'_id': 1898}\n",
      "{'_id': 2008}\n",
      "{'_id': 2018}\n",
      "{'_id': 2003}\n",
      "{'_id': 1992}\n",
      "{'_id': 1913}\n",
      "{'_id': 2014}\n",
      "{'_id': 1990}\n",
      "{'_id': 1917}\n"
     ]
    }
   ],
   "source": [
    "query = [ \n",
    "    { \"$group\" : { \"_id\" : \"$year\" } } ]\n",
    "\n",
    "data = collection.aggregate(query)\n",
    "\n",
    "for doc in data:\n",
    "    print(doc)"
   ]
  },
  {
   "cell_type": "markdown",
   "id": "ec6c2027",
   "metadata": {},
   "source": [
    "### Aggregation _limit_\n"
   ]
  },
  {
   "cell_type": "code",
   "execution_count": 6,
   "id": "4b5ab2fd",
   "metadata": {},
   "outputs": [
    {
     "name": "stdout",
     "output_type": "stream",
     "text": [
      "{'_id': 1998}\n",
      "{'_id': 1993}\n",
      "{'_id': 1985}\n",
      "{'_id': 1920}\n",
      "{'_id': 1984}\n"
     ]
    }
   ],
   "source": [
    "query = [ \n",
    "    { \"$group\" : { \"_id\" : \"$year\" } },\n",
    "    { \"$limit\" : 5}\n",
    "    ]\n",
    "data = collection.aggregate(query)\n",
    "\n",
    "for doc in data:\n",
    "    print(doc)"
   ]
  },
  {
   "cell_type": "markdown",
   "id": "83a05bdf",
   "metadata": {},
   "source": [
    "### Aggregation _project_\n"
   ]
  },
  {
   "cell_type": "markdown",
   "id": "77bb8bd0",
   "metadata": {},
   "source": [
    "**In SQL, this would be the equivalent of:**\n",
    "\n",
    "SELECT title, year FROM TABLE LIMIT 5;"
   ]
  },
  {
   "cell_type": "code",
   "execution_count": 9,
   "id": "6d28e625",
   "metadata": {},
   "outputs": [
    {
     "name": "stdout",
     "output_type": "stream",
     "text": [
      "{'title': 'Once Upon a Time in the West', 'year': 1968}\n",
      "{'title': 'A Million Ways to Die in the West', 'year': 2014}\n",
      "{'title': 'Wild Wild West', 'year': 1999}\n",
      "{'title': 'West Side Story', 'year': 1961}\n",
      "{'title': 'Slow West', 'year': 2015}\n"
     ]
    }
   ],
   "source": [
    "query = [ \n",
    "    { \"$project\" : {\n",
    "        \"title\" : 1,\n",
    "        \"year\" : 1,\n",
    "        \"_id\" : 0\n",
    "    }},\n",
    "    { \"$limit\" : 5}\n",
    "    ]\n",
    "data = collection.aggregate(query)\n",
    "\n",
    "for doc in data:\n",
    "    print(doc)"
   ]
  },
  {
   "cell_type": "markdown",
   "id": "4044b68c",
   "metadata": {},
   "source": [
    "### Aggregation _sort_"
   ]
  },
  {
   "cell_type": "code",
   "execution_count": 11,
   "id": "854bc11f",
   "metadata": {},
   "outputs": [
    {
     "name": "stdout",
     "output_type": "stream",
     "text": [
      "{'title': 'QQ Speed', 'year': 2018}\n",
      "{'title': 'Untitled J.J. Abrams/Chris Alender Sci-Fi Project', 'year': 2016}\n",
      "{'title': 'MF', 'year': 2016}\n",
      "{'title': 'Elf ll', 'year': 2016}\n",
      "{'title': \"The Duke: Based on the Memoir 'I'm the Duke' by J.P. Duke\", 'year': 2016}\n"
     ]
    }
   ],
   "source": [
    "query = [ \n",
    "    { \"$project\" : {\n",
    "        \"title\" : 1,\n",
    "        \"year\" : 1,\n",
    "        \"_id\" : 0\n",
    "    }},\n",
    "    { \"$sort\" : {\"year\" : -1}},\n",
    "    { \"$limit\" : 5}\n",
    "    ]\n",
    "data = collection.aggregate(query)\n",
    "\n",
    "for doc in data:\n",
    "    print(doc)"
   ]
  },
  {
   "cell_type": "markdown",
   "id": "997b52b2",
   "metadata": {},
   "source": [
    "### Aggregation _$match_"
   ]
  },
  {
   "cell_type": "markdown",
   "id": "54b802da",
   "metadata": {},
   "source": [
    "SELECT title, year FROM film_movies\n",
    "WHERE year = 1999\n",
    "ORDER BY title ASC\n",
    "LIMIT 5;"
   ]
  },
  {
   "cell_type": "code",
   "execution_count": 17,
   "id": "593c0f73",
   "metadata": {},
   "outputs": [
    {
     "name": "stdout",
     "output_type": "stream",
     "text": [
      "{'title': '30 cm de Pica e Demais', 'year': 1999}\n",
      "{'title': 'A.Li.Ce', 'year': 1999}\n",
      "{'title': 'Aa Ab Laut Chalen', 'year': 1999}\n",
      "{'title': 'All About My Mother', 'year': 1999}\n",
      "{'title': 'Au Pair', 'year': 1999}\n"
     ]
    }
   ],
   "source": [
    "query = [ \n",
    "    { \"$match\" : { \"year\" : 1999}},\n",
    "    { \"$project\" : {\n",
    "        \"title\" : 1,\n",
    "        \"year\" : 1,\n",
    "        \"_id\" : 0\n",
    "    }},\n",
    "    { \"$sort\" : {\"title\" : 1}},\n",
    "    { \"$limit\" : 5}\n",
    "    ]\n",
    "data = collection.aggregate(query)\n",
    "\n",
    "for doc in data:\n",
    "    print(doc)"
   ]
  },
  {
   "cell_type": "markdown",
   "id": "3b8ad252",
   "metadata": {},
   "source": [
    "### Aggregation _$addFields_"
   ]
  },
  {
   "cell_type": "markdown",
   "id": "8854660b",
   "metadata": {},
   "source": [
    "SELECT rating, AVG(rating) FROM film_movies\n",
    "GROUP BY rating\n",
    "LIMIT 5;"
   ]
  },
  {
   "cell_type": "code",
   "execution_count": 13,
   "id": "975050aa",
   "metadata": {},
   "outputs": [
    {
     "name": "stdout",
     "output_type": "stream",
     "text": [
      "{'avgRating': 2.5}\n",
      "{'avgRating': 5.0}\n",
      "{'avgRating': 3.0}\n",
      "{'avgRating': 4.5}\n",
      "{'avgRating': 3.5}\n"
     ]
    }
   ],
   "source": [
    "collection = database.get_collection('video_reviews')\n",
    "query = [ \n",
    "    {\n",
    "    \"$addFields\": {\n",
    "      \"avgRating\": { \"$avg\": \"$rating\" }\n",
    "    }},\n",
    "    { \"$project\" : {\n",
    "        \"avgRating\" : 1,\n",
    "        \"_id\" : 0\n",
    "    }},\n",
    "    { \"$limit\" : 5}\n",
    "]\n",
    "data = collection.aggregate(query)\n",
    "\n",
    "for doc in data:\n",
    "    print(doc)"
   ]
  },
  {
   "cell_type": "markdown",
   "id": "9bff4946",
   "metadata": {},
   "source": [
    "### Aggregation _$count_"
   ]
  },
  {
   "cell_type": "code",
   "execution_count": 14,
   "id": "f9d2061a",
   "metadata": {},
   "outputs": [
    {
     "name": "stdout",
     "output_type": "stream",
     "text": [
      "{'totalMovies1999': 62}\n"
     ]
    }
   ],
   "source": [
    "collection = database.get_collection('video_movies')\n",
    "query = [ \n",
    "    { \"$match\" : { \"year\" : 1999}},\n",
    "    { \"$count\" : \"totalMovies1999\"}    ]\n",
    "data = collection.aggregate(query)\n",
    "\n",
    "for doc in data:\n",
    "    print(doc)"
   ]
  },
  {
   "cell_type": "code",
   "execution_count": null,
   "id": "37be708c",
   "metadata": {},
   "outputs": [],
   "source": []
  }
 ],
 "metadata": {
  "kernelspec": {
   "display_name": "Python 3 (ipykernel)",
   "language": "python",
   "name": "python3"
  },
  "language_info": {
   "codemirror_mode": {
    "name": "ipython",
    "version": 3
   },
   "file_extension": ".py",
   "mimetype": "text/x-python",
   "name": "python",
   "nbconvert_exporter": "python",
   "pygments_lexer": "ipython3",
   "version": "3.9.13"
  }
 },
 "nbformat": 4,
 "nbformat_minor": 5
}
