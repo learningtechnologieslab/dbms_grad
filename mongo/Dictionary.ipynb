{
 "cells": [
  {
   "cell_type": "code",
   "execution_count": 1,
   "id": "49d60439",
   "metadata": {},
   "outputs": [],
   "source": [
    "import json\n"
   ]
  },
  {
   "cell_type": "code",
   "execution_count": 2,
   "id": "3eff6249",
   "metadata": {},
   "outputs": [],
   "source": [
    "data = {\n",
    "    \"_encoding\" : \"UTF8\",\n",
    "    \"pd_rd_w\" : \"KL2V8\",\n",
    "    \"content-id \" : \"amzn1.sym.bc5f3394-3b4c-4031-8ac0-18107ac75816\"\n",
    "}"
   ]
  },
  {
   "cell_type": "code",
   "execution_count": 3,
   "id": "5466cae0",
   "metadata": {},
   "outputs": [
    {
     "data": {
      "text/plain": [
       "'KL2V8'"
      ]
     },
     "execution_count": 3,
     "metadata": {},
     "output_type": "execute_result"
    }
   ],
   "source": [
    "data[\"pd_rd_w\"]"
   ]
  },
  {
   "cell_type": "code",
   "execution_count": 7,
   "id": "4227bc6b",
   "metadata": {},
   "outputs": [],
   "source": [
    "products = [\n",
    "    {\n",
    "        \"_id\" : 1,\n",
    "        \"name\" : \"bananas\",\n",
    "        \"price\" : 1.99,\n",
    "        \"unit\" : \"lb\"\n",
    "    },\n",
    "    {\n",
    "        \"_id\" : 2,\n",
    "        \"name\" : \"apples\",\n",
    "        \"price\" : 3.99,\n",
    "        \"package\" : {\n",
    "            \"type\" : \"bag\",\n",
    "            \"material\" : \"plastic\",\n",
    "            \"closure\" : \"zip\"\n",
    "        }\n",
    "    }\n",
    "]"
   ]
  },
  {
   "cell_type": "code",
   "execution_count": 9,
   "id": "a7de476b",
   "metadata": {},
   "outputs": [
    {
     "name": "stdout",
     "output_type": "stream",
     "text": [
      "bag\n"
     ]
    }
   ],
   "source": [
    "if \"package\" in products[1].keys():\n",
    "    print(products[1]['package']['type'])"
   ]
  },
  {
   "cell_type": "code",
   "execution_count": 11,
   "id": "3ec9fb67",
   "metadata": {},
   "outputs": [],
   "source": [
    "class Food:\n",
    "    name = \"apples\"\n",
    "    price = 3.99"
   ]
  },
  {
   "cell_type": "code",
   "execution_count": 19,
   "id": "0055785d",
   "metadata": {},
   "outputs": [],
   "source": [
    "apples = Food()\n",
    "apples.name = \"apples\"\n",
    "price = 3.99"
   ]
  },
  {
   "cell_type": "code",
   "execution_count": 20,
   "id": "5bf414fc",
   "metadata": {},
   "outputs": [
    {
     "data": {
      "text/plain": [
       "{'name': 'apples'}"
      ]
     },
     "execution_count": 20,
     "metadata": {},
     "output_type": "execute_result"
    }
   ],
   "source": [
    "apples.__dict__"
   ]
  },
  {
   "cell_type": "code",
   "execution_count": null,
   "id": "6a158d8e",
   "metadata": {},
   "outputs": [],
   "source": []
  },
  {
   "cell_type": "code",
   "execution_count": null,
   "id": "5e757194",
   "metadata": {},
   "outputs": [],
   "source": []
  },
  {
   "cell_type": "code",
   "execution_count": 21,
   "id": "9db0f81e",
   "metadata": {},
   "outputs": [],
   "source": [
    "film = {\n",
    "    \"_id\" : 506,\n",
    "    \"title\" : 'LADY STAGE',\n",
    "    \"description\": 'A Beautiful Character Study of a Woman And a Man who must Pursue a Explorer in A U-Boat',\n",
    "    \"year\" : 2006,\n",
    "    \"actors\" : [\n",
    "        {\n",
    "            \"actor_id\" : 1,\n",
    "            \"last_name\" : \"PENELOPE',\n",
    "            \"first_name\" : 'BOB'\n",
    "        },\n",
    "        {\n",
    "            \"actor_id\" : 48,\n",
    "            \"last_name\" : 'FRANCES',\n",
    "            \"first_name\": 'DAY-LEWIS'\n",
    "        }\n",
    "    ]\n",
    "}\n"
   ]
  },
  {
   "cell_type": "code",
   "execution_count": 22,
   "id": "f2b5c728",
   "metadata": {},
   "outputs": [],
   "source": [
    "film = {\n",
    "    \"_id\" : 506,\n",
    "    \"title\" : 'LADY STAGE',\n",
    "    \"description\": 'A Beautiful Character Study of a Woman And a Man who must Pursue a Explorer in A U-Boat',\n",
    "    \"year\" : 2006,\n",
    "    \"actors\" : [1, 48]\n",
    "}\n"
   ]
  },
  {
   "cell_type": "code",
   "execution_count": null,
   "id": "eb465737",
   "metadata": {},
   "outputs": [],
   "source": [
    "actors [\n",
    "        {\n",
    "            \"_id\" : 1,\n",
    "            \"last_name\" : \"PENELOPE',\n",
    "            \"first_name\" : 'BOB'\n",
    "        },\n",
    "        {\n",
    "            \"_id\" : 48,\n",
    "            \"last_name\" : 'FRANCES',\n",
    "            \"first_name\": 'DAY-LEWIS'\n",
    "        }"
   ]
  }
 ],
 "metadata": {
  "kernelspec": {
   "display_name": "Python 3 (ipykernel)",
   "language": "python",
   "name": "python3"
  },
  "language_info": {
   "codemirror_mode": {
    "name": "ipython",
    "version": 3
   },
   "file_extension": ".py",
   "mimetype": "text/x-python",
   "name": "python",
   "nbconvert_exporter": "python",
   "pygments_lexer": "ipython3",
   "version": "3.9.13"
  }
 },
 "nbformat": 4,
 "nbformat_minor": 5
}
