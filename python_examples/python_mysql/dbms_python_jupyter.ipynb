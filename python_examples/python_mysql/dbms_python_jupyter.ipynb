{
 "cells": [
  {
   "cell_type": "code",
   "execution_count": 1,
   "metadata": {},
   "outputs": [
    {
     "name": "stdout",
     "output_type": "stream",
     "text": [
      "Collecting pymysql\n",
      "  Downloading PyMySQL-1.1.1-py3-none-any.whl.metadata (4.4 kB)\n",
      "Downloading PyMySQL-1.1.1-py3-none-any.whl (44 kB)\n",
      "\u001b[2K   \u001b[90m━━━━━━━━━━━━━━━━━━━━━━━━━━━━━━━━━━━━━━━━\u001b[0m \u001b[32m45.0/45.0 kB\u001b[0m \u001b[31m2.1 MB/s\u001b[0m eta \u001b[36m0:00:00\u001b[0m\n",
      "\u001b[?25hInstalling collected packages: pymysql\n",
      "Successfully installed pymysql-1.1.1\n"
     ]
    }
   ],
   "source": [
    "!pip3 install pymysql"
   ]
  },
  {
   "cell_type": "code",
   "execution_count": 2,
   "metadata": {},
   "outputs": [],
   "source": [
    "import pymysql.cursors\n",
    "import pandas as pd\n",
    "import datetime\n",
    "import uuid\n",
    "import numpy as np\n",
    "from itertools import combinations\n"
   ]
  },
  {
   "cell_type": "code",
   "execution_count": 4,
   "metadata": {},
   "outputs": [],
   "source": [
    "\n",
    "# Connect to the database\n",
    "db_connection = pymysql.connect(host='159.65.239.201',\n",
    "                             user='testUser',\n",
    "                             password='testUser123!',\n",
    "                             db='sakila',\n",
    "                             cursorclass=pymysql.cursors.DictCursor)"
   ]
  },
  {
   "cell_type": "markdown",
   "metadata": {},
   "source": [
    "### Selecting results into a Pandas dataframe"
   ]
  },
  {
   "cell_type": "code",
   "execution_count": 5,
   "metadata": {},
   "outputs": [
    {
     "name": "stderr",
     "output_type": "stream",
     "text": [
      "/var/folders/6d/xqywj2xx2llc_k2t6nkshrgh0000gn/T/ipykernel_29905/2981064506.py:4: UserWarning: pandas only supports SQLAlchemy connectable (engine/connection) or database string URI or sqlite3 DBAPI2 connection. Other DBAPI2 objects are not tested. Please consider using SQLAlchemy.\n",
      "  result = pd.read_sql(qry, con=db_connection)\n"
     ]
    },
    {
     "data": {
      "text/html": [
       "<div>\n",
       "<style scoped>\n",
       "    .dataframe tbody tr th:only-of-type {\n",
       "        vertical-align: middle;\n",
       "    }\n",
       "\n",
       "    .dataframe tbody tr th {\n",
       "        vertical-align: top;\n",
       "    }\n",
       "\n",
       "    .dataframe thead th {\n",
       "        text-align: right;\n",
       "    }\n",
       "</style>\n",
       "<table border=\"1\" class=\"dataframe\">\n",
       "  <thead>\n",
       "    <tr style=\"text-align: right;\">\n",
       "      <th></th>\n",
       "      <th>film_id</th>\n",
       "      <th>title</th>\n",
       "      <th>description</th>\n",
       "      <th>release_year</th>\n",
       "      <th>language_id</th>\n",
       "      <th>original_language_id</th>\n",
       "      <th>rental_duration</th>\n",
       "      <th>rental_rate</th>\n",
       "      <th>length</th>\n",
       "      <th>replacement_cost</th>\n",
       "      <th>rating</th>\n",
       "      <th>special_features</th>\n",
       "      <th>last_update</th>\n",
       "    </tr>\n",
       "  </thead>\n",
       "  <tbody>\n",
       "    <tr>\n",
       "      <th>0</th>\n",
       "      <td>film_id</td>\n",
       "      <td>title</td>\n",
       "      <td>description</td>\n",
       "      <td>release_year</td>\n",
       "      <td>language_id</td>\n",
       "      <td>original_language_id</td>\n",
       "      <td>rental_duration</td>\n",
       "      <td>rental_rate</td>\n",
       "      <td>length</td>\n",
       "      <td>replacement_cost</td>\n",
       "      <td>rating</td>\n",
       "      <td>special_features</td>\n",
       "      <td>last_update</td>\n",
       "    </tr>\n",
       "    <tr>\n",
       "      <th>1</th>\n",
       "      <td>film_id</td>\n",
       "      <td>title</td>\n",
       "      <td>description</td>\n",
       "      <td>release_year</td>\n",
       "      <td>language_id</td>\n",
       "      <td>original_language_id</td>\n",
       "      <td>rental_duration</td>\n",
       "      <td>rental_rate</td>\n",
       "      <td>length</td>\n",
       "      <td>replacement_cost</td>\n",
       "      <td>rating</td>\n",
       "      <td>special_features</td>\n",
       "      <td>last_update</td>\n",
       "    </tr>\n",
       "    <tr>\n",
       "      <th>2</th>\n",
       "      <td>film_id</td>\n",
       "      <td>title</td>\n",
       "      <td>description</td>\n",
       "      <td>release_year</td>\n",
       "      <td>language_id</td>\n",
       "      <td>original_language_id</td>\n",
       "      <td>rental_duration</td>\n",
       "      <td>rental_rate</td>\n",
       "      <td>length</td>\n",
       "      <td>replacement_cost</td>\n",
       "      <td>rating</td>\n",
       "      <td>special_features</td>\n",
       "      <td>last_update</td>\n",
       "    </tr>\n",
       "    <tr>\n",
       "      <th>3</th>\n",
       "      <td>film_id</td>\n",
       "      <td>title</td>\n",
       "      <td>description</td>\n",
       "      <td>release_year</td>\n",
       "      <td>language_id</td>\n",
       "      <td>original_language_id</td>\n",
       "      <td>rental_duration</td>\n",
       "      <td>rental_rate</td>\n",
       "      <td>length</td>\n",
       "      <td>replacement_cost</td>\n",
       "      <td>rating</td>\n",
       "      <td>special_features</td>\n",
       "      <td>last_update</td>\n",
       "    </tr>\n",
       "    <tr>\n",
       "      <th>4</th>\n",
       "      <td>film_id</td>\n",
       "      <td>title</td>\n",
       "      <td>description</td>\n",
       "      <td>release_year</td>\n",
       "      <td>language_id</td>\n",
       "      <td>original_language_id</td>\n",
       "      <td>rental_duration</td>\n",
       "      <td>rental_rate</td>\n",
       "      <td>length</td>\n",
       "      <td>replacement_cost</td>\n",
       "      <td>rating</td>\n",
       "      <td>special_features</td>\n",
       "      <td>last_update</td>\n",
       "    </tr>\n",
       "  </tbody>\n",
       "</table>\n",
       "</div>"
      ],
      "text/plain": [
       "   film_id  title  description  release_year  language_id  \\\n",
       "0  film_id  title  description  release_year  language_id   \n",
       "1  film_id  title  description  release_year  language_id   \n",
       "2  film_id  title  description  release_year  language_id   \n",
       "3  film_id  title  description  release_year  language_id   \n",
       "4  film_id  title  description  release_year  language_id   \n",
       "\n",
       "   original_language_id  rental_duration  rental_rate  length  \\\n",
       "0  original_language_id  rental_duration  rental_rate  length   \n",
       "1  original_language_id  rental_duration  rental_rate  length   \n",
       "2  original_language_id  rental_duration  rental_rate  length   \n",
       "3  original_language_id  rental_duration  rental_rate  length   \n",
       "4  original_language_id  rental_duration  rental_rate  length   \n",
       "\n",
       "   replacement_cost  rating  special_features  last_update  \n",
       "0  replacement_cost  rating  special_features  last_update  \n",
       "1  replacement_cost  rating  special_features  last_update  \n",
       "2  replacement_cost  rating  special_features  last_update  \n",
       "3  replacement_cost  rating  special_features  last_update  \n",
       "4  replacement_cost  rating  special_features  last_update  "
      ]
     },
     "execution_count": 5,
     "metadata": {},
     "output_type": "execute_result"
    }
   ],
   "source": [
    "\n",
    "qry = \"SELECT * FROM film;\"\n",
    "#print(qry)\n",
    "\n",
    "result = pd.read_sql(qry, con=db_connection)\n",
    "result.head()"
   ]
  },
  {
   "cell_type": "code",
   "execution_count": 5,
   "metadata": {},
   "outputs": [
    {
     "name": "stderr",
     "output_type": "stream",
     "text": [
      "/Users/dbabichenko/opt/anaconda3/lib/python3.9/site-packages/pandas/io/sql.py:762: UserWarning: pandas only support SQLAlchemy connectable(engine/connection) ordatabase string URI or sqlite3 DBAPI2 connectionother DBAPI2 objects are not tested, please consider using SQLAlchemy\n",
      "  warnings.warn(\n"
     ]
    },
    {
     "data": {
      "text/html": [
       "<div>\n",
       "<style scoped>\n",
       "    .dataframe tbody tr th:only-of-type {\n",
       "        vertical-align: middle;\n",
       "    }\n",
       "\n",
       "    .dataframe tbody tr th {\n",
       "        vertical-align: top;\n",
       "    }\n",
       "\n",
       "    .dataframe thead th {\n",
       "        text-align: right;\n",
       "    }\n",
       "</style>\n",
       "<table border=\"1\" class=\"dataframe\">\n",
       "  <thead>\n",
       "    <tr style=\"text-align: right;\">\n",
       "      <th></th>\n",
       "      <th>film_id</th>\n",
       "      <th>title</th>\n",
       "      <th>description</th>\n",
       "      <th>release_year</th>\n",
       "      <th>language_id</th>\n",
       "      <th>original_language_id</th>\n",
       "      <th>rental_duration</th>\n",
       "      <th>rental_rate</th>\n",
       "      <th>length</th>\n",
       "      <th>replacement_cost</th>\n",
       "      <th>rating</th>\n",
       "      <th>special_features</th>\n",
       "      <th>last_update</th>\n",
       "    </tr>\n",
       "  </thead>\n",
       "  <tbody>\n",
       "    <tr>\n",
       "      <th>0</th>\n",
       "      <td>1</td>\n",
       "      <td>ACADEMY DINOSAUR</td>\n",
       "      <td>A Epic Drama of a Feminist And a Mad Scientist...</td>\n",
       "      <td>2006</td>\n",
       "      <td>1</td>\n",
       "      <td>None</td>\n",
       "      <td>6</td>\n",
       "      <td>0.99</td>\n",
       "      <td>86</td>\n",
       "      <td>20.99</td>\n",
       "      <td>PG</td>\n",
       "      <td>Deleted Scenes,Behind the Scenes</td>\n",
       "      <td>2006-02-15 05:03:42</td>\n",
       "    </tr>\n",
       "    <tr>\n",
       "      <th>1</th>\n",
       "      <td>2</td>\n",
       "      <td>ACE GOLDFINGER</td>\n",
       "      <td>A Astounding Epistle of a Database Administrat...</td>\n",
       "      <td>2006</td>\n",
       "      <td>1</td>\n",
       "      <td>None</td>\n",
       "      <td>3</td>\n",
       "      <td>4.99</td>\n",
       "      <td>48</td>\n",
       "      <td>12.99</td>\n",
       "      <td>G</td>\n",
       "      <td>Trailers,Deleted Scenes</td>\n",
       "      <td>2006-02-15 05:03:42</td>\n",
       "    </tr>\n",
       "    <tr>\n",
       "      <th>2</th>\n",
       "      <td>3</td>\n",
       "      <td>ADAPTATION HOLES</td>\n",
       "      <td>A Astounding Reflection of a Lumberjack And a ...</td>\n",
       "      <td>2006</td>\n",
       "      <td>1</td>\n",
       "      <td>None</td>\n",
       "      <td>7</td>\n",
       "      <td>2.99</td>\n",
       "      <td>50</td>\n",
       "      <td>18.99</td>\n",
       "      <td>NC-17</td>\n",
       "      <td>Trailers,Deleted Scenes</td>\n",
       "      <td>2006-02-15 05:03:42</td>\n",
       "    </tr>\n",
       "    <tr>\n",
       "      <th>3</th>\n",
       "      <td>4</td>\n",
       "      <td>AFFAIR PREJUDICE</td>\n",
       "      <td>A Fanciful Documentary of a Frisbee And a Lumb...</td>\n",
       "      <td>2006</td>\n",
       "      <td>1</td>\n",
       "      <td>None</td>\n",
       "      <td>5</td>\n",
       "      <td>2.99</td>\n",
       "      <td>117</td>\n",
       "      <td>26.99</td>\n",
       "      <td>G</td>\n",
       "      <td>Commentaries,Behind the Scenes</td>\n",
       "      <td>2006-02-15 05:03:42</td>\n",
       "    </tr>\n",
       "    <tr>\n",
       "      <th>4</th>\n",
       "      <td>5</td>\n",
       "      <td>AFRICAN EGG</td>\n",
       "      <td>A Fast-Paced Documentary of a Pastry Chef And ...</td>\n",
       "      <td>2006</td>\n",
       "      <td>1</td>\n",
       "      <td>None</td>\n",
       "      <td>6</td>\n",
       "      <td>2.99</td>\n",
       "      <td>130</td>\n",
       "      <td>22.99</td>\n",
       "      <td>G</td>\n",
       "      <td>Deleted Scenes</td>\n",
       "      <td>2006-02-15 05:03:42</td>\n",
       "    </tr>\n",
       "  </tbody>\n",
       "</table>\n",
       "</div>"
      ],
      "text/plain": [
       "   film_id             title  \\\n",
       "0        1  ACADEMY DINOSAUR   \n",
       "1        2    ACE GOLDFINGER   \n",
       "2        3  ADAPTATION HOLES   \n",
       "3        4  AFFAIR PREJUDICE   \n",
       "4        5       AFRICAN EGG   \n",
       "\n",
       "                                         description  release_year  \\\n",
       "0  A Epic Drama of a Feminist And a Mad Scientist...          2006   \n",
       "1  A Astounding Epistle of a Database Administrat...          2006   \n",
       "2  A Astounding Reflection of a Lumberjack And a ...          2006   \n",
       "3  A Fanciful Documentary of a Frisbee And a Lumb...          2006   \n",
       "4  A Fast-Paced Documentary of a Pastry Chef And ...          2006   \n",
       "\n",
       "   language_id original_language_id  rental_duration  rental_rate  length  \\\n",
       "0            1                 None                6         0.99      86   \n",
       "1            1                 None                3         4.99      48   \n",
       "2            1                 None                7         2.99      50   \n",
       "3            1                 None                5         2.99     117   \n",
       "4            1                 None                6         2.99     130   \n",
       "\n",
       "   replacement_cost rating                  special_features  \\\n",
       "0             20.99     PG  Deleted Scenes,Behind the Scenes   \n",
       "1             12.99      G           Trailers,Deleted Scenes   \n",
       "2             18.99  NC-17           Trailers,Deleted Scenes   \n",
       "3             26.99      G    Commentaries,Behind the Scenes   \n",
       "4             22.99      G                    Deleted Scenes   \n",
       "\n",
       "          last_update  \n",
       "0 2006-02-15 05:03:42  \n",
       "1 2006-02-15 05:03:42  \n",
       "2 2006-02-15 05:03:42  \n",
       "3 2006-02-15 05:03:42  \n",
       "4 2006-02-15 05:03:42  "
      ]
     },
     "execution_count": 5,
     "metadata": {},
     "output_type": "execute_result"
    }
   ],
   "source": [
    "qry = \"SELECT * FROM film;\"\n",
    "films = pd.read_sql(qry, con=db_connection)\n",
    "films.head()"
   ]
  },
  {
   "cell_type": "code",
   "execution_count": 7,
   "metadata": {},
   "outputs": [
    {
     "name": "stderr",
     "output_type": "stream",
     "text": [
      "/var/folders/6d/xqywj2xx2llc_k2t6nkshrgh0000gn/T/ipykernel_29905/3512026895.py:2: UserWarning: pandas only supports SQLAlchemy connectable (engine/connection) or database string URI or sqlite3 DBAPI2 connection. Other DBAPI2 objects are not tested. Please consider using SQLAlchemy.\n",
      "  actor = pd.read_sql(qry, con=db_connection)\n"
     ]
    },
    {
     "data": {
      "text/html": [
       "<div>\n",
       "<style scoped>\n",
       "    .dataframe tbody tr th:only-of-type {\n",
       "        vertical-align: middle;\n",
       "    }\n",
       "\n",
       "    .dataframe tbody tr th {\n",
       "        vertical-align: top;\n",
       "    }\n",
       "\n",
       "    .dataframe thead th {\n",
       "        text-align: right;\n",
       "    }\n",
       "</style>\n",
       "<table border=\"1\" class=\"dataframe\">\n",
       "  <thead>\n",
       "    <tr style=\"text-align: right;\">\n",
       "      <th></th>\n",
       "      <th>actor_id</th>\n",
       "      <th>first_name</th>\n",
       "      <th>last_name</th>\n",
       "      <th>last_update</th>\n",
       "    </tr>\n",
       "  </thead>\n",
       "  <tbody>\n",
       "    <tr>\n",
       "      <th>0</th>\n",
       "      <td>actor_id</td>\n",
       "      <td>first_name</td>\n",
       "      <td>last_name</td>\n",
       "      <td>last_update</td>\n",
       "    </tr>\n",
       "    <tr>\n",
       "      <th>1</th>\n",
       "      <td>actor_id</td>\n",
       "      <td>first_name</td>\n",
       "      <td>last_name</td>\n",
       "      <td>last_update</td>\n",
       "    </tr>\n",
       "    <tr>\n",
       "      <th>2</th>\n",
       "      <td>actor_id</td>\n",
       "      <td>first_name</td>\n",
       "      <td>last_name</td>\n",
       "      <td>last_update</td>\n",
       "    </tr>\n",
       "    <tr>\n",
       "      <th>3</th>\n",
       "      <td>actor_id</td>\n",
       "      <td>first_name</td>\n",
       "      <td>last_name</td>\n",
       "      <td>last_update</td>\n",
       "    </tr>\n",
       "    <tr>\n",
       "      <th>4</th>\n",
       "      <td>actor_id</td>\n",
       "      <td>first_name</td>\n",
       "      <td>last_name</td>\n",
       "      <td>last_update</td>\n",
       "    </tr>\n",
       "  </tbody>\n",
       "</table>\n",
       "</div>"
      ],
      "text/plain": [
       "   actor_id  first_name  last_name  last_update\n",
       "0  actor_id  first_name  last_name  last_update\n",
       "1  actor_id  first_name  last_name  last_update\n",
       "2  actor_id  first_name  last_name  last_update\n",
       "3  actor_id  first_name  last_name  last_update\n",
       "4  actor_id  first_name  last_name  last_update"
      ]
     },
     "execution_count": 7,
     "metadata": {},
     "output_type": "execute_result"
    }
   ],
   "source": [
    "qry = \"SELECT * FROM actor;\"\n",
    "actor = pd.read_sql(qry, con=db_connection)\n",
    "actor.head()"
   ]
  },
  {
   "cell_type": "code",
   "execution_count": 12,
   "metadata": {},
   "outputs": [],
   "source": [
    "result = pd.merge(employees, salaries, how='left', left_on='emp_no', right_on='emp_no')"
   ]
  },
  {
   "cell_type": "code",
   "execution_count": 13,
   "metadata": {},
   "outputs": [
    {
     "data": {
      "text/plain": [
       "(2844047, 9)"
      ]
     },
     "execution_count": 13,
     "metadata": {},
     "output_type": "execute_result"
    }
   ],
   "source": [
    "result.shape"
   ]
  },
  {
   "cell_type": "markdown",
   "metadata": {},
   "source": [
    "### Selecting results using a pymysql cursor"
   ]
  },
  {
   "cell_type": "code",
   "execution_count": 9,
   "metadata": {},
   "outputs": [
    {
     "name": "stdout",
     "output_type": "stream",
     "text": [
      "[{'film_id': 1, 'title': 'ACADEMY DINOSAUR', 'description': 'A Epic Drama of a Feminist And a Mad Scientist who must Battle a Teacher in The Canadian Rockies'}, {'film_id': 2, 'title': 'ACE GOLDFINGER', 'description': 'A Astounding Epistle of a Database Administrator And a Explorer who must Find a Car in Ancient China'}, {'film_id': 3, 'title': 'ADAPTATION HOLES', 'description': 'A Astounding Reflection of a Lumberjack And a Car who must Sink a Lumberjack in A Baloon Factory'}, {'film_id': 4, 'title': 'AFFAIR PREJUDICE', 'description': 'A Fanciful Documentary of a Frisbee And a Lumberjack who must Chase a Monkey in A Shark Tank'}, {'film_id': 5, 'title': 'AFRICAN EGG', 'description': 'A Fast-Paced Documentary of a Pastry Chef And a Dentist who must Pursue a Forensic Psychologist in The Gulf of Mexico'}, {'film_id': 6, 'title': 'AGENT TRUMAN', 'description': 'A Intrepid Panorama of a Robot And a Boy who must Escape a Sumo Wrestler in Ancient China'}, {'film_id': 7, 'title': 'AIRPLANE SIERRA', 'description': 'A Touching Saga of a Hunter And a Butler who must Discover a Butler in A Jet Boat'}, {'film_id': 8, 'title': 'AIRPORT POLLOCK', 'description': 'A Epic Tale of a Moose And a Girl who must Confront a Monkey in Ancient India'}, {'film_id': 9, 'title': 'ALABAMA DEVIL', 'description': 'A Thoughtful Panorama of a Database Administrator And a Mad Scientist who must Outgun a Mad Scientist in A Jet Boat'}, {'film_id': 10, 'title': 'ALADDIN CALENDAR', 'description': 'A Action-Packed Tale of a Man And a Lumberjack who must Reach a Feminist in Ancient China'}, {'film_id': 11, 'title': 'ALAMO VIDEOTAPE', 'description': 'A Boring Epistle of a Butler And a Cat who must Fight a Pastry Chef in A MySQL Convention'}, {'film_id': 12, 'title': 'ALASKA PHANTOM', 'description': 'A Fanciful Saga of a Hunter And a Pastry Chef who must Vanquish a Boy in Australia'}, {'film_id': 13, 'title': 'ALI FOREVER', 'description': 'A Action-Packed Drama of a Dentist And a Crocodile who must Battle a Feminist in The Canadian Rockies'}, {'film_id': 14, 'title': 'ALICE FANTASIA', 'description': 'A Emotional Drama of a A Shark And a Database Administrator who must Vanquish a Pioneer in Soviet Georgia'}, {'film_id': 15, 'title': 'ALIEN CENTER', 'description': 'A Brilliant Drama of a Cat And a Mad Scientist who must Battle a Feminist in A MySQL Convention'}, {'film_id': 16, 'title': 'ALLEY EVOLUTION', 'description': 'A Fast-Paced Drama of a Robot And a Composer who must Battle a Astronaut in New Orleans'}, {'film_id': 17, 'title': 'ALONE TRIP', 'description': 'A Fast-Paced Character Study of a Composer And a Dog who must Outgun a Boat in An Abandoned Fun House'}, {'film_id': 18, 'title': 'ALTER VICTORY', 'description': 'A Thoughtful Drama of a Composer And a Feminist who must Meet a Secret Agent in The Canadian Rockies'}, {'film_id': 19, 'title': 'AMADEUS HOLY', 'description': 'A Emotional Display of a Pioneer And a Technical Writer who must Battle a Man in A Baloon'}, {'film_id': 20, 'title': 'AMELIE HELLFIGHTERS', 'description': 'A Boring Drama of a Woman And a Squirrel who must Conquer a Student in A Baloon'}]\n"
     ]
    }
   ],
   "source": [
    "\n",
    "# Connect to the database\n",
    "con = pymysql.connect(host='159.65.239.201',\n",
    "                             user='testUser',\n",
    "                             password='testUser123!',\n",
    "                             db='sakila',\n",
    "                             cursorclass=pymysql.cursors.DictCursor)\n",
    "data = []\n",
    "try:\n",
    "\n",
    "    with con.cursor() as cur:\n",
    "\n",
    "        cur.execute('SELECT * FROM film LIMIT 20;')\n",
    "\n",
    "        rows = cur.fetchall()\n",
    "\n",
    "        for row in rows:\n",
    "            film = {}\n",
    "            film['film_id'] = row['film_id']\n",
    "            film['title'] = row['title']\n",
    "            film['description'] = row['description']\n",
    "            #print(row['film_id'], row['title'], row['description'])\n",
    "            data.append(film)\n",
    "\n",
    "finally:\n",
    "\n",
    "    con.close()\n",
    "    \n",
    "print(data)"
   ]
  },
  {
   "cell_type": "markdown",
   "metadata": {},
   "source": [
    "### Escaping parameters / Parametrized Queries"
   ]
  },
  {
   "cell_type": "code",
   "execution_count": 10,
   "metadata": {},
   "outputs": [
    {
     "name": "stdout",
     "output_type": "stream",
     "text": [
      "SELECT * FROM users WHERE uname = 'dbabichenko' AND password = 'test123'\n"
     ]
    }
   ],
   "source": [
    "uname = input(\"Please enter your user name: \")\n",
    "password = input(\"Please enter your password: \")\n",
    "\n",
    "q = \"SELECT * FROM users WHERE uname = '\" + uname + \"' AND password = '\" + password + \"'\";\n",
    "print(q)"
   ]
  },
  {
   "cell_type": "code",
   "execution_count": 12,
   "metadata": {},
   "outputs": [
    {
     "name": "stdout",
     "output_type": "stream",
     "text": [
      "SELECT * FROM employees WHERE emp_no = 1; DROP TABLE employees; //\n"
     ]
    }
   ],
   "source": [
    "emp_no = input(\"Please enter employee number: \")\n",
    "q = \"SELECT * FROM employees WHERE emp_no = \" + emp_no;\n",
    "print(q)"
   ]
  },
  {
   "cell_type": "code",
   "execution_count": null,
   "metadata": {},
   "outputs": [
    {
     "name": "stdout",
     "output_type": "stream",
     "text": [
      "SELECT * FROM film WHERE film_id = 1; DELETE FROM film; # AND title ='ACADEMY DINOSAUR';\n"
     ]
    },
    {
     "data": {
      "text/plain": [
       "\"\\ntry: \\n\\n    with con.cursor() as cur:\\n        cur.execute('SELECT * FROM film WHERE film_id=%s AND title=%s', [film_id, title]) \\n        \\n        rows = cur.fetchall()\\n\\n        for row in rows:\\n            print(row['film_id'], row['title'], row['description'])\\nfinally:\\n\\n    con.close()\\n\\n\""
      ]
     },
     "execution_count": 16,
     "metadata": {},
     "output_type": "execute_result"
    }
   ],
   "source": [
    "\n",
    "# Connect to the database\n",
    "con = pymysql.connect(host='159.65.239.201',\n",
    "                             user='testUser',\n",
    "                             password='testUser123!',\n",
    "                             db='sakila',\n",
    "                             cursorclass=pymysql.cursors.DictCursor)\n",
    "\n",
    "\n",
    "film_id = 1 #\"1; DELETE FROM film; #\"\n",
    "title = 'ACADEMY DINOSAUR'\n",
    "\n",
    "#qry = \"SELECT * FROM film WHERE \"\n",
    "#qry += \"film_id = \" + str(film_id) + \" AND title ='\" + title + \"';\"\n",
    "\n",
    "#print(qry)\n",
    "\n",
    "\n",
    "try: \n",
    "\n",
    "    with con.cursor() as cur:\n",
    "        cur.execute('SELECT * FROM film WHERE film_id=%s AND title=%s', [film_id, title]) \n",
    "        \n",
    "        rows = cur.fetchall()\n",
    "\n",
    "        for row in rows:\n",
    "            print(row['film_id'], row['title'], row['description'])\n",
    "finally:\n",
    "\n",
    "    con.close()\n",
    "\n"
   ]
  },
  {
   "cell_type": "markdown",
   "metadata": {},
   "source": [
    "### Insert a row with PyMySQL"
   ]
  },
  {
   "cell_type": "code",
   "execution_count": 28,
   "metadata": {},
   "outputs": [],
   "source": [
    "con = pymysql.connect(host='143.198.177.53',\n",
    "                             user='testUser',\n",
    "                             password='testUser123@!@!',\n",
    "                             db='employees',\n",
    "                             charset='utf8mb4',\n",
    "                             cursorclass=pymysql.cursors.DictCursor)\n",
    "\n",
    "\n",
    "\n",
    "try: \n",
    "\n",
    "    with con.cursor() as cur:\n",
    "        q = \"INSERT INTO employees (emp_no, birth_date, first_name, last_name, gender, hire_date) \"\n",
    "        q += \"VALUES (%s,%s,%s,%s,%s,NOW());\"\n",
    "\n",
    "        cur.execute(q, (1, '1977-10-10', 'Dmitriy', 'Babichenko', 'M')) \n",
    "        con.commit()\n",
    "\n",
    "finally:\n",
    "\n",
    "    con.close()\n"
   ]
  },
  {
   "cell_type": "markdown",
   "metadata": {},
   "source": [
    "### Update a MySQL table with PyMySQL"
   ]
  },
  {
   "cell_type": "code",
   "execution_count": 27,
   "metadata": {},
   "outputs": [],
   "source": [
    "con = pymysql.connect(host='143.198.177.53',\n",
    "                             user='testUser',\n",
    "                             password='testUser123@!@!',\n",
    "                             db='employees',\n",
    "                             charset='utf8mb4',\n",
    "                             cursorclass=pymysql.cursors.DictCursor)\n",
    "\n",
    "\n",
    "\n",
    "try: \n",
    "\n",
    "    with con.cursor() as cur:\n",
    "        qry = 'UPDATE books SET first_name = %s WHERE book_id = %s'\n",
    "\n",
    "        cur.execute(qry, ('Bob', 3)) \n",
    "        con.commit()\n",
    "\n",
    "finally:\n",
    "\n",
    "    con.close()\n"
   ]
  },
  {
   "cell_type": "markdown",
   "metadata": {},
   "source": [
    "### Delete from a MySQL table with PyMySQL"
   ]
  },
  {
   "cell_type": "code",
   "execution_count": 28,
   "metadata": {},
   "outputs": [],
   "source": [
    "con = pymysql.connect(host='143.198.177.53',\n",
    "                             user='testUser',\n",
    "                             password='testUser123@!@!',\n",
    "                             db='employees',\n",
    "                             charset='utf8mb4',\n",
    "                             cursorclass=pymysql.cursors.DictCursor)\n",
    "\n",
    "\n",
    "\n",
    "try: \n",
    "\n",
    "    with con.cursor() as cur:\n",
    "        qry = 'DELETE FROM books WHERE book_id = %s'\n",
    "\n",
    "        cur.execute(qry, (3)) \n",
    "        con.commit()\n",
    "\n",
    "finally:\n",
    "\n",
    "    con.close()\n"
   ]
  },
  {
   "cell_type": "code",
   "execution_count": null,
   "metadata": {},
   "outputs": [],
   "source": []
  }
 ],
 "metadata": {
  "kernelspec": {
   "display_name": "base",
   "language": "python",
   "name": "python3"
  },
  "language_info": {
   "codemirror_mode": {
    "name": "ipython",
    "version": 3
   },
   "file_extension": ".py",
   "mimetype": "text/x-python",
   "name": "python",
   "nbconvert_exporter": "python",
   "pygments_lexer": "ipython3",
   "version": "3.12.4"
  }
 },
 "nbformat": 4,
 "nbformat_minor": 2
}
